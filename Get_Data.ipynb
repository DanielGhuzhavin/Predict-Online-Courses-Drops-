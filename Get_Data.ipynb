{
 "cells": [
  {
   "cell_type": "markdown",
   "source": [
    "## Импортируем библиотеки"
   ],
   "metadata": {
    "collapsed": false,
    "id": "3NG7dqbg2nez"
   }
  },
  {
   "cell_type": "code",
   "execution_count": 1,
   "outputs": [],
   "source": [
    "import pandas as pd\n",
    "import numpy as np"
   ],
   "metadata": {
    "id": "VkaFqFPo2ne3",
    "executionInfo": {
     "status": "ok",
     "timestamp": 1667334371491,
     "user_tz": -180,
     "elapsed": 5,
     "user": {
      "displayName": "Daniel Guzhavin",
      "userId": "05684735323155417140"
     }
    }
   }
  },
  {
   "cell_type": "markdown",
   "source": [
    "**Наши константы**"
   ],
   "metadata": {
    "collapsed": false
   }
  },
  {
   "cell_type": "code",
   "execution_count": 2,
   "outputs": [],
   "source": [
    "days_for_out = 30   # Если студент не заходил столько дней, то мы считаем, что он ушел.\n",
    "days_for_predict = 3    # Количество дней с начала курса, за которое мы ходим предсказать действия нашего студента."
   ],
   "metadata": {
    "collapsed": false
   }
  },
  {
   "cell_type": "markdown",
   "source": [
    "# Поработаем с данными.\n",
    "### Сперва импортируем их."
   ],
   "metadata": {
    "collapsed": false,
    "id": "7qSqCZfx2ne6"
   }
  },
  {
   "cell_type": "code",
   "execution_count": 3,
   "outputs": [],
   "source": [
    "events_data = pd.read_csv('event_data_train.csv')"
   ],
   "metadata": {
    "id": "SdTk--g52ne6",
    "executionInfo": {
     "status": "ok",
     "timestamp": 1667334373619,
     "user_tz": -180,
     "elapsed": 2133,
     "user": {
      "displayName": "Daniel Guzhavin",
      "userId": "05684735323155417140"
     }
    }
   }
  },
  {
   "cell_type": "code",
   "execution_count": 4,
   "outputs": [],
   "source": [
    "submissions_data = pd.read_csv('submissions_data_train.csv')"
   ],
   "metadata": {
    "id": "m5uBmktv2ne7",
    "executionInfo": {
     "status": "ok",
     "timestamp": 1667334374637,
     "user_tz": -180,
     "elapsed": 1019,
     "user": {
      "displayName": "Daniel Guzhavin",
      "userId": "05684735323155417140"
     }
    }
   }
  },
  {
   "cell_type": "code",
   "execution_count": 5,
   "outputs": [
    {
     "data": {
      "text/plain": "   step_id   timestamp submission_status  user_id\n0    31971  1434349275           correct    15853\n1    31972  1434348300           correct    15853\n2    31972  1478852149             wrong    15853\n3    31972  1478852164           correct    15853\n4    31976  1434348123             wrong    15853",
      "text/html": "<div>\n<style scoped>\n    .dataframe tbody tr th:only-of-type {\n        vertical-align: middle;\n    }\n\n    .dataframe tbody tr th {\n        vertical-align: top;\n    }\n\n    .dataframe thead th {\n        text-align: right;\n    }\n</style>\n<table border=\"1\" class=\"dataframe\">\n  <thead>\n    <tr style=\"text-align: right;\">\n      <th></th>\n      <th>step_id</th>\n      <th>timestamp</th>\n      <th>submission_status</th>\n      <th>user_id</th>\n    </tr>\n  </thead>\n  <tbody>\n    <tr>\n      <th>0</th>\n      <td>31971</td>\n      <td>1434349275</td>\n      <td>correct</td>\n      <td>15853</td>\n    </tr>\n    <tr>\n      <th>1</th>\n      <td>31972</td>\n      <td>1434348300</td>\n      <td>correct</td>\n      <td>15853</td>\n    </tr>\n    <tr>\n      <th>2</th>\n      <td>31972</td>\n      <td>1478852149</td>\n      <td>wrong</td>\n      <td>15853</td>\n    </tr>\n    <tr>\n      <th>3</th>\n      <td>31972</td>\n      <td>1478852164</td>\n      <td>correct</td>\n      <td>15853</td>\n    </tr>\n    <tr>\n      <th>4</th>\n      <td>31976</td>\n      <td>1434348123</td>\n      <td>wrong</td>\n      <td>15853</td>\n    </tr>\n  </tbody>\n</table>\n</div>"
     },
     "execution_count": 5,
     "metadata": {},
     "output_type": "execute_result"
    }
   ],
   "source": [
    "submissions_data.head()"
   ],
   "metadata": {
    "colab": {
     "base_uri": "https://localhost:8080/",
     "height": 206
    },
    "id": "4M-3Bcu92ne7",
    "executionInfo": {
     "status": "ok",
     "timestamp": 1667334374638,
     "user_tz": -180,
     "elapsed": 21,
     "user": {
      "displayName": "Daniel Guzhavin",
      "userId": "05684735323155417140"
     }
    },
    "outputId": "0a6aa706-dbaf-4cee-95fc-8a1ac56a96dc"
   }
  },
  {
   "cell_type": "code",
   "execution_count": 6,
   "outputs": [
    {
     "data": {
      "text/plain": "   step_id   timestamp           action  user_id\n0    32815  1434340848           viewed    17632\n1    32815  1434340848           passed    17632\n2    32815  1434340848       discovered    17632\n3    32811  1434340895       discovered    17632\n4    32811  1434340895           viewed    17632\n5    32811  1434340895           passed    17632\n6    32929  1434340921       discovered    17632\n7    32929  1434340921           viewed    17632\n8    32929  1434340939  started_attempt    17632\n9    32929  1434340944           passed    17632",
      "text/html": "<div>\n<style scoped>\n    .dataframe tbody tr th:only-of-type {\n        vertical-align: middle;\n    }\n\n    .dataframe tbody tr th {\n        vertical-align: top;\n    }\n\n    .dataframe thead th {\n        text-align: right;\n    }\n</style>\n<table border=\"1\" class=\"dataframe\">\n  <thead>\n    <tr style=\"text-align: right;\">\n      <th></th>\n      <th>step_id</th>\n      <th>timestamp</th>\n      <th>action</th>\n      <th>user_id</th>\n    </tr>\n  </thead>\n  <tbody>\n    <tr>\n      <th>0</th>\n      <td>32815</td>\n      <td>1434340848</td>\n      <td>viewed</td>\n      <td>17632</td>\n    </tr>\n    <tr>\n      <th>1</th>\n      <td>32815</td>\n      <td>1434340848</td>\n      <td>passed</td>\n      <td>17632</td>\n    </tr>\n    <tr>\n      <th>2</th>\n      <td>32815</td>\n      <td>1434340848</td>\n      <td>discovered</td>\n      <td>17632</td>\n    </tr>\n    <tr>\n      <th>3</th>\n      <td>32811</td>\n      <td>1434340895</td>\n      <td>discovered</td>\n      <td>17632</td>\n    </tr>\n    <tr>\n      <th>4</th>\n      <td>32811</td>\n      <td>1434340895</td>\n      <td>viewed</td>\n      <td>17632</td>\n    </tr>\n    <tr>\n      <th>5</th>\n      <td>32811</td>\n      <td>1434340895</td>\n      <td>passed</td>\n      <td>17632</td>\n    </tr>\n    <tr>\n      <th>6</th>\n      <td>32929</td>\n      <td>1434340921</td>\n      <td>discovered</td>\n      <td>17632</td>\n    </tr>\n    <tr>\n      <th>7</th>\n      <td>32929</td>\n      <td>1434340921</td>\n      <td>viewed</td>\n      <td>17632</td>\n    </tr>\n    <tr>\n      <th>8</th>\n      <td>32929</td>\n      <td>1434340939</td>\n      <td>started_attempt</td>\n      <td>17632</td>\n    </tr>\n    <tr>\n      <th>9</th>\n      <td>32929</td>\n      <td>1434340944</td>\n      <td>passed</td>\n      <td>17632</td>\n    </tr>\n  </tbody>\n</table>\n</div>"
     },
     "execution_count": 6,
     "metadata": {},
     "output_type": "execute_result"
    }
   ],
   "source": [
    "events_data.head(10)"
   ],
   "metadata": {
    "colab": {
     "base_uri": "https://localhost:8080/",
     "height": 363
    },
    "id": "9NQe8Dzx2ne8",
    "executionInfo": {
     "status": "ok",
     "timestamp": 1667334374638,
     "user_tz": -180,
     "elapsed": 20,
     "user": {
      "displayName": "Daniel Guzhavin",
      "userId": "05684735323155417140"
     }
    },
    "outputId": "992d19d2-dacb-4893-b6ae-03dc593c31ff"
   }
  },
  {
   "cell_type": "markdown",
   "source": [
    "**Такие действия может совершать наш пользователь:**"
   ],
   "metadata": {
    "collapsed": false,
    "id": "PbfoE-l62ne9"
   }
  },
  {
   "cell_type": "code",
   "execution_count": 7,
   "outputs": [
    {
     "data": {
      "text/plain": "array(['viewed', 'passed', 'discovered', 'started_attempt'], dtype=object)"
     },
     "execution_count": 7,
     "metadata": {},
     "output_type": "execute_result"
    }
   ],
   "source": [
    "events_data.action.unique()"
   ],
   "metadata": {
    "colab": {
     "base_uri": "https://localhost:8080/"
    },
    "id": "zUonsLcT2ne9",
    "executionInfo": {
     "status": "ok",
     "timestamp": 1667334374639,
     "user_tz": -180,
     "elapsed": 20,
     "user": {
      "displayName": "Daniel Guzhavin",
      "userId": "05684735323155417140"
     }
    },
    "outputId": "4b07491f-5246-4e5f-bc4a-bcc058c9e74e"
   }
  },
  {
   "cell_type": "markdown",
   "source": [
    "**Добавим человеческие дату и время. Мы же не роботы.**"
   ],
   "metadata": {
    "collapsed": false,
    "id": "i6RTrg8o2ne9"
   }
  },
  {
   "cell_type": "code",
   "execution_count": 8,
   "outputs": [],
   "source": [
    "submissions_data['date'] = pd.to_datetime(submissions_data.timestamp, unit='s')\n",
    "submissions_data['day'] = submissions_data.date.dt.date"
   ],
   "metadata": {
    "id": "45xwJjff2ne9",
    "executionInfo": {
     "status": "ok",
     "timestamp": 1667334374639,
     "user_tz": -180,
     "elapsed": 10,
     "user": {
      "displayName": "Daniel Guzhavin",
      "userId": "05684735323155417140"
     }
    }
   }
  },
  {
   "cell_type": "code",
   "execution_count": 9,
   "outputs": [],
   "source": [
    "events_data['date'] = pd.to_datetime(events_data.timestamp, unit='s')"
   ],
   "metadata": {
    "id": "DhSWjKt52ne-",
    "executionInfo": {
     "status": "ok",
     "timestamp": 1667334374639,
     "user_tz": -180,
     "elapsed": 9,
     "user": {
      "displayName": "Daniel Guzhavin",
      "userId": "05684735323155417140"
     }
    }
   }
  },
  {
   "cell_type": "code",
   "execution_count": 10,
   "outputs": [
    {
     "data": {
      "text/plain": "   step_id   timestamp      action  user_id                date\n0    32815  1434340848      viewed    17632 2015-06-15 04:00:48\n1    32815  1434340848      passed    17632 2015-06-15 04:00:48\n2    32815  1434340848  discovered    17632 2015-06-15 04:00:48\n3    32811  1434340895  discovered    17632 2015-06-15 04:01:35\n4    32811  1434340895      viewed    17632 2015-06-15 04:01:35",
      "text/html": "<div>\n<style scoped>\n    .dataframe tbody tr th:only-of-type {\n        vertical-align: middle;\n    }\n\n    .dataframe tbody tr th {\n        vertical-align: top;\n    }\n\n    .dataframe thead th {\n        text-align: right;\n    }\n</style>\n<table border=\"1\" class=\"dataframe\">\n  <thead>\n    <tr style=\"text-align: right;\">\n      <th></th>\n      <th>step_id</th>\n      <th>timestamp</th>\n      <th>action</th>\n      <th>user_id</th>\n      <th>date</th>\n    </tr>\n  </thead>\n  <tbody>\n    <tr>\n      <th>0</th>\n      <td>32815</td>\n      <td>1434340848</td>\n      <td>viewed</td>\n      <td>17632</td>\n      <td>2015-06-15 04:00:48</td>\n    </tr>\n    <tr>\n      <th>1</th>\n      <td>32815</td>\n      <td>1434340848</td>\n      <td>passed</td>\n      <td>17632</td>\n      <td>2015-06-15 04:00:48</td>\n    </tr>\n    <tr>\n      <th>2</th>\n      <td>32815</td>\n      <td>1434340848</td>\n      <td>discovered</td>\n      <td>17632</td>\n      <td>2015-06-15 04:00:48</td>\n    </tr>\n    <tr>\n      <th>3</th>\n      <td>32811</td>\n      <td>1434340895</td>\n      <td>discovered</td>\n      <td>17632</td>\n      <td>2015-06-15 04:01:35</td>\n    </tr>\n    <tr>\n      <th>4</th>\n      <td>32811</td>\n      <td>1434340895</td>\n      <td>viewed</td>\n      <td>17632</td>\n      <td>2015-06-15 04:01:35</td>\n    </tr>\n  </tbody>\n</table>\n</div>"
     },
     "execution_count": 10,
     "metadata": {},
     "output_type": "execute_result"
    }
   ],
   "source": [
    "events_data.head()"
   ],
   "metadata": {
    "colab": {
     "base_uri": "https://localhost:8080/",
     "height": 206
    },
    "id": "4ANGNgvN2ne-",
    "executionInfo": {
     "status": "ok",
     "timestamp": 1667334374640,
     "user_tz": -180,
     "elapsed": 10,
     "user": {
      "displayName": "Daniel Guzhavin",
      "userId": "05684735323155417140"
     }
    },
    "outputId": "74b9a0f1-8c15-4ae3-94fb-a4e7e2aa58b6"
   }
  },
  {
   "cell_type": "code",
   "execution_count": 11,
   "outputs": [],
   "source": [
    "events_data['day'] = events_data.date.dt.date"
   ],
   "metadata": {
    "id": "MpzoXWKQ2ne-",
    "executionInfo": {
     "status": "ok",
     "timestamp": 1667334375845,
     "user_tz": -180,
     "elapsed": 1214,
     "user": {
      "displayName": "Daniel Guzhavin",
      "userId": "05684735323155417140"
     }
    }
   }
  },
  {
   "cell_type": "code",
   "execution_count": 12,
   "outputs": [
    {
     "data": {
      "text/plain": "   step_id   timestamp      action  user_id                date         day\n0    32815  1434340848      viewed    17632 2015-06-15 04:00:48  2015-06-15\n1    32815  1434340848      passed    17632 2015-06-15 04:00:48  2015-06-15\n2    32815  1434340848  discovered    17632 2015-06-15 04:00:48  2015-06-15\n3    32811  1434340895  discovered    17632 2015-06-15 04:01:35  2015-06-15\n4    32811  1434340895      viewed    17632 2015-06-15 04:01:35  2015-06-15",
      "text/html": "<div>\n<style scoped>\n    .dataframe tbody tr th:only-of-type {\n        vertical-align: middle;\n    }\n\n    .dataframe tbody tr th {\n        vertical-align: top;\n    }\n\n    .dataframe thead th {\n        text-align: right;\n    }\n</style>\n<table border=\"1\" class=\"dataframe\">\n  <thead>\n    <tr style=\"text-align: right;\">\n      <th></th>\n      <th>step_id</th>\n      <th>timestamp</th>\n      <th>action</th>\n      <th>user_id</th>\n      <th>date</th>\n      <th>day</th>\n    </tr>\n  </thead>\n  <tbody>\n    <tr>\n      <th>0</th>\n      <td>32815</td>\n      <td>1434340848</td>\n      <td>viewed</td>\n      <td>17632</td>\n      <td>2015-06-15 04:00:48</td>\n      <td>2015-06-15</td>\n    </tr>\n    <tr>\n      <th>1</th>\n      <td>32815</td>\n      <td>1434340848</td>\n      <td>passed</td>\n      <td>17632</td>\n      <td>2015-06-15 04:00:48</td>\n      <td>2015-06-15</td>\n    </tr>\n    <tr>\n      <th>2</th>\n      <td>32815</td>\n      <td>1434340848</td>\n      <td>discovered</td>\n      <td>17632</td>\n      <td>2015-06-15 04:00:48</td>\n      <td>2015-06-15</td>\n    </tr>\n    <tr>\n      <th>3</th>\n      <td>32811</td>\n      <td>1434340895</td>\n      <td>discovered</td>\n      <td>17632</td>\n      <td>2015-06-15 04:01:35</td>\n      <td>2015-06-15</td>\n    </tr>\n    <tr>\n      <th>4</th>\n      <td>32811</td>\n      <td>1434340895</td>\n      <td>viewed</td>\n      <td>17632</td>\n      <td>2015-06-15 04:01:35</td>\n      <td>2015-06-15</td>\n    </tr>\n  </tbody>\n</table>\n</div>"
     },
     "execution_count": 12,
     "metadata": {},
     "output_type": "execute_result"
    }
   ],
   "source": [
    "events_data.head()"
   ],
   "metadata": {
    "colab": {
     "base_uri": "https://localhost:8080/",
     "height": 206
    },
    "id": "oVba0VOh2ne_",
    "executionInfo": {
     "status": "ok",
     "timestamp": 1667334377139,
     "user_tz": -180,
     "elapsed": 1300,
     "user": {
      "displayName": "Daniel Guzhavin",
      "userId": "05684735323155417140"
     }
    },
    "outputId": "f7adb3dd-858c-4064-c219-004c404933fa"
   }
  },
  {
   "cell_type": "markdown",
   "source": [
    "**Посмотрим на прирост новых студентов по дням.**"
   ],
   "metadata": {
    "collapsed": false,
    "id": "WXThpXZP2ne_"
   }
  },
  {
   "cell_type": "code",
   "execution_count": 13,
   "outputs": [
    {
     "data": {
      "text/plain": "<AxesSubplot:xlabel='day'>"
     },
     "execution_count": 13,
     "metadata": {},
     "output_type": "execute_result"
    },
    {
     "data": {
      "text/plain": "<Figure size 432x288 with 1 Axes>",
      "image/png": "[encoded data removed]"
     },
     "metadata": {
      "needs_background": "light"
     },
     "output_type": "display_data"
    }
   ],
   "source": [
    "events_data.groupby('day') \\\n",
    "    .user_id.nunique().plot()"
   ],
   "metadata": {
    "colab": {
     "base_uri": "https://localhost:8080/",
     "height": 411
    },
    "id": "VSSRt5-S2ne_",
    "executionInfo": {
     "status": "ok",
     "timestamp": 1667334377550,
     "user_tz": -180,
     "elapsed": 414,
     "user": {
      "displayName": "Daniel Guzhavin",
      "userId": "05684735323155417140"
     }
    },
    "outputId": "9b359d7f-d140-46f4-a276-5487323db5cf"
   }
  },
  {
   "cell_type": "markdown",
   "source": [
    "**У нас данные за первые 3 года курса. Поэтому в первые дни такой ажиотаж.**"
   ],
   "metadata": {
    "collapsed": false,
    "id": "B7NGDJLs2ne_"
   }
  },
  {
   "cell_type": "markdown",
   "source": [
    "**Создадим дополнительную таблицу с данными о количестве каждого совершенного действия студентами.**"
   ],
   "metadata": {
    "collapsed": false,
    "id": "3h8vGOHD2ne_"
   }
  },
  {
   "cell_type": "code",
   "execution_count": 14,
   "outputs": [],
   "source": [
    "users_events_data = events_data.pivot_table(index='user_id',\n",
    "                        columns='action',\n",
    "                        values='step_id',\n",
    "                        aggfunc='count',\n",
    "                        fill_value=0).reset_index()"
   ],
   "metadata": {
    "id": "ve5aTLD12nfA",
    "executionInfo": {
     "status": "ok",
     "timestamp": 1667334377551,
     "user_tz": -180,
     "elapsed": 14,
     "user": {
      "displayName": "Daniel Guzhavin",
      "userId": "05684735323155417140"
     }
    }
   }
  },
  {
   "cell_type": "code",
   "execution_count": 15,
   "outputs": [
    {
     "data": {
      "text/plain": "action  user_id  discovered  passed  started_attempt  viewed\n0             1           1       0                0       1\n1             2           9       9                2      10\n2             3          91      87               30     192\n3             5          11      11                4      12\n4             7           1       1                0       1",
      "text/html": "<div>\n<style scoped>\n    .dataframe tbody tr th:only-of-type {\n        vertical-align: middle;\n    }\n\n    .dataframe tbody tr th {\n        vertical-align: top;\n    }\n\n    .dataframe thead th {\n        text-align: right;\n    }\n</style>\n<table border=\"1\" class=\"dataframe\">\n  <thead>\n    <tr style=\"text-align: right;\">\n      <th>action</th>\n      <th>user_id</th>\n      <th>discovered</th>\n      <th>passed</th>\n      <th>started_attempt</th>\n      <th>viewed</th>\n    </tr>\n  </thead>\n  <tbody>\n    <tr>\n      <th>0</th>\n      <td>1</td>\n      <td>1</td>\n      <td>0</td>\n      <td>0</td>\n      <td>1</td>\n    </tr>\n    <tr>\n      <th>1</th>\n      <td>2</td>\n      <td>9</td>\n      <td>9</td>\n      <td>2</td>\n      <td>10</td>\n    </tr>\n    <tr>\n      <th>2</th>\n      <td>3</td>\n      <td>91</td>\n      <td>87</td>\n      <td>30</td>\n      <td>192</td>\n    </tr>\n    <tr>\n      <th>3</th>\n      <td>5</td>\n      <td>11</td>\n      <td>11</td>\n      <td>4</td>\n      <td>12</td>\n    </tr>\n    <tr>\n      <th>4</th>\n      <td>7</td>\n      <td>1</td>\n      <td>1</td>\n      <td>0</td>\n      <td>1</td>\n    </tr>\n  </tbody>\n</table>\n</div>"
     },
     "execution_count": 15,
     "metadata": {},
     "output_type": "execute_result"
    }
   ],
   "source": [
    "users_events_data.head()"
   ],
   "metadata": {
    "colab": {
     "base_uri": "https://localhost:8080/",
     "height": 206
    },
    "id": "bCOclKjk2nfA",
    "executionInfo": {
     "status": "ok",
     "timestamp": 1667334377551,
     "user_tz": -180,
     "elapsed": 12,
     "user": {
      "displayName": "Daniel Guzhavin",
      "userId": "05684735323155417140"
     }
    },
    "outputId": "800e4e4f-3591-4e05-954e-09c230967862"
   }
  },
  {
   "cell_type": "markdown",
   "source": [
    "**Создадим еще одну дополнительную таблицу с данными о правильных и неправильных ответах студентов.**"
   ],
   "metadata": {
    "collapsed": false,
    "id": "EvuQ1fbq2nfA"
   }
  },
  {
   "cell_type": "code",
   "execution_count": 16,
   "outputs": [],
   "source": [
    "users_scores = submissions_data.pivot_table(index='user_id',\n",
    "                             columns='submission_status',\n",
    "                             values='step_id',\n",
    "                             aggfunc='count',\n",
    "                             fill_value=0).reset_index()"
   ],
   "metadata": {
    "id": "HVFwpZhm2nfA",
    "executionInfo": {
     "status": "ok",
     "timestamp": 1667334377552,
     "user_tz": -180,
     "elapsed": 10,
     "user": {
      "displayName": "Daniel Guzhavin",
      "userId": "05684735323155417140"
     }
    }
   }
  },
  {
   "cell_type": "code",
   "execution_count": 17,
   "outputs": [
    {
     "data": {
      "text/plain": "submission_status  user_id  correct  wrong\n0                        2        2      0\n1                        3       29     23\n2                        5        2      2\n3                        8        9     21\n4                       14        0      1",
      "text/html": "<div>\n<style scoped>\n    .dataframe tbody tr th:only-of-type {\n        vertical-align: middle;\n    }\n\n    .dataframe tbody tr th {\n        vertical-align: top;\n    }\n\n    .dataframe thead th {\n        text-align: right;\n    }\n</style>\n<table border=\"1\" class=\"dataframe\">\n  <thead>\n    <tr style=\"text-align: right;\">\n      <th>submission_status</th>\n      <th>user_id</th>\n      <th>correct</th>\n      <th>wrong</th>\n    </tr>\n  </thead>\n  <tbody>\n    <tr>\n      <th>0</th>\n      <td>2</td>\n      <td>2</td>\n      <td>0</td>\n    </tr>\n    <tr>\n      <th>1</th>\n      <td>3</td>\n      <td>29</td>\n      <td>23</td>\n    </tr>\n    <tr>\n      <th>2</th>\n      <td>5</td>\n      <td>2</td>\n      <td>2</td>\n    </tr>\n    <tr>\n      <th>3</th>\n      <td>8</td>\n      <td>9</td>\n      <td>21</td>\n    </tr>\n    <tr>\n      <th>4</th>\n      <td>14</td>\n      <td>0</td>\n      <td>1</td>\n    </tr>\n  </tbody>\n</table>\n</div>"
     },
     "execution_count": 17,
     "metadata": {},
     "output_type": "execute_result"
    }
   ],
   "source": [
    "users_scores.head()"
   ],
   "metadata": {
    "colab": {
     "base_uri": "https://localhost:8080/",
     "height": 206
    },
    "id": "WHunrnvE2nfB",
    "executionInfo": {
     "status": "ok",
     "timestamp": 1667334377552,
     "user_tz": -180,
     "elapsed": 9,
     "user": {
      "displayName": "Daniel Guzhavin",
      "userId": "05684735323155417140"
     }
    },
    "outputId": "62a9d9fb-2ec5-4066-e050-2cc2bfb67200"
   }
  },
  {
   "cell_type": "markdown",
   "source": [
    "### Теперь нам нужно понять, после скольких дней отсутствия, мы можем считать, что наш студент дропнулся."
   ],
   "metadata": {
    "collapsed": false,
    "id": "zwsH-pzy2nfB"
   }
  },
  {
   "cell_type": "markdown",
   "source": [
    "**Для этого возьмем вот такой сабсет.**"
   ],
   "metadata": {
    "collapsed": false,
    "id": "-3lA88pk2nfB"
   }
  },
  {
   "cell_type": "code",
   "execution_count": 18,
   "outputs": [
    {
     "data": {
      "text/plain": "    user_id         day   timestamp\n0     17632  2015-06-15  1434340848\n36    12494  2015-06-15  1434341931\n59      442  2015-06-15  1434342029\n62    22254  2015-06-15  1434342042\n94     6646  2015-06-15  1434342230",
      "text/html": "<div>\n<style scoped>\n    .dataframe tbody tr th:only-of-type {\n        vertical-align: middle;\n    }\n\n    .dataframe tbody tr th {\n        vertical-align: top;\n    }\n\n    .dataframe thead th {\n        text-align: right;\n    }\n</style>\n<table border=\"1\" class=\"dataframe\">\n  <thead>\n    <tr style=\"text-align: right;\">\n      <th></th>\n      <th>user_id</th>\n      <th>day</th>\n      <th>timestamp</th>\n    </tr>\n  </thead>\n  <tbody>\n    <tr>\n      <th>0</th>\n      <td>17632</td>\n      <td>2015-06-15</td>\n      <td>1434340848</td>\n    </tr>\n    <tr>\n      <th>36</th>\n      <td>12494</td>\n      <td>2015-06-15</td>\n      <td>1434341931</td>\n    </tr>\n    <tr>\n      <th>59</th>\n      <td>442</td>\n      <td>2015-06-15</td>\n      <td>1434342029</td>\n    </tr>\n    <tr>\n      <th>62</th>\n      <td>22254</td>\n      <td>2015-06-15</td>\n      <td>1434342042</td>\n    </tr>\n    <tr>\n      <th>94</th>\n      <td>6646</td>\n      <td>2015-06-15</td>\n      <td>1434342230</td>\n    </tr>\n  </tbody>\n</table>\n</div>"
     },
     "execution_count": 18,
     "metadata": {},
     "output_type": "execute_result"
    }
   ],
   "source": [
    "events_data[['user_id', 'day', 'timestamp']].drop_duplicates(subset=['user_id', 'day']).head()"
   ],
   "metadata": {
    "colab": {
     "base_uri": "https://localhost:8080/",
     "height": 206
    },
    "id": "HJURg65Q2nfB",
    "executionInfo": {
     "status": "ok",
     "timestamp": 1667334377875,
     "user_tz": -180,
     "elapsed": 331,
     "user": {
      "displayName": "Daniel Guzhavin",
      "userId": "05684735323155417140"
     }
    },
    "outputId": "01d17c0a-c515-4493-c0a7-9727a957b7bd"
   }
  },
  {
   "cell_type": "markdown",
   "source": [
    "**Cгруппируем его по User_id**"
   ],
   "metadata": {
    "collapsed": false,
    "id": "iYH7ex-x2nfB"
   }
  },
  {
   "cell_type": "code",
   "execution_count": 19,
   "outputs": [
    {
     "data": {
      "text/plain": "user_id\n1                                         [1472827464]\n2                             [1514383364, 1519226966]\n3    [1434358476, 1441257725, 1441440209, 144153391...\n5                             [1466156809, 1499859621]\n7                                         [1521634660]\nName: timestamp, dtype: object"
     },
     "execution_count": 19,
     "metadata": {},
     "output_type": "execute_result"
    }
   ],
   "source": [
    "events_data[['user_id', 'day', 'timestamp']].drop_duplicates(subset=['user_id', 'day']) \\\n",
    "    .groupby('user_id')['timestamp'].apply(list).head()"
   ],
   "metadata": {
    "colab": {
     "base_uri": "https://localhost:8080/"
    },
    "id": "3tu5G7ak2nfB",
    "executionInfo": {
     "status": "ok",
     "timestamp": 1667334378483,
     "user_tz": -180,
     "elapsed": 613,
     "user": {
      "displayName": "Daniel Guzhavin",
      "userId": "05684735323155417140"
     }
    },
    "outputId": "f865c434-34a3-4c75-bc04-8a584f799ec1"
   }
  },
  {
   "cell_type": "markdown",
   "source": [
    "**И, собственно, вычислим промежутки между действиями (в секундах)**"
   ],
   "metadata": {
    "collapsed": false,
    "id": "Lb7FCWxX2nfC"
   }
  },
  {
   "cell_type": "code",
   "execution_count": 20,
   "outputs": [
    {
     "data": {
      "text/plain": "user_id\n1                                                  []\n2                                           [4843602]\n3    [6899249, 182484, 93710, 2768870, 171400, 78712]\n5                                          [33702812]\n7                                                  []\nName: timestamp, dtype: object"
     },
     "execution_count": 20,
     "metadata": {},
     "output_type": "execute_result"
    }
   ],
   "source": [
    "events_data[['user_id', 'day', 'timestamp']].drop_duplicates(subset=['user_id', 'day']) \\\n",
    "    .groupby('user_id')['timestamp'].apply(list) \\\n",
    "    .apply(np.diff).head()"
   ],
   "metadata": {
    "colab": {
     "base_uri": "https://localhost:8080/"
    },
    "id": "3KoIYay_2nfC",
    "executionInfo": {
     "status": "ok",
     "timestamp": 1667334379503,
     "user_tz": -180,
     "elapsed": 1021,
     "user": {
      "displayName": "Daniel Guzhavin",
      "userId": "05684735323155417140"
     }
    },
    "outputId": "ce687503-dfc5-4d34-e14d-9b50fcf6d0b8"
   }
  },
  {
   "cell_type": "markdown",
   "source": [
    "**Завернем все это добро в нампай серию и переведем в дни.**"
   ],
   "metadata": {
    "collapsed": false,
    "id": "I__3Vy7h2nfC"
   }
  },
  {
   "cell_type": "code",
   "execution_count": 21,
   "outputs": [],
   "source": [
    "gap_data = events_data[['user_id', 'day', 'timestamp']].drop_duplicates(subset=['user_id', 'day']) \\\n",
    "    .groupby('user_id')['timestamp'].apply(list) \\\n",
    "    .apply(np.diff).values"
   ],
   "metadata": {
    "id": "F302Z4xx2nfD",
    "executionInfo": {
     "status": "ok",
     "timestamp": 1667334380445,
     "user_tz": -180,
     "elapsed": 944,
     "user": {
      "displayName": "Daniel Guzhavin",
      "userId": "05684735323155417140"
     }
    }
   }
  },
  {
   "cell_type": "code",
   "execution_count": 22,
   "outputs": [],
   "source": [
    "gap_data = pd.Series(np.concatenate(gap_data,axis=0))"
   ],
   "metadata": {
    "id": "n_bUlkHt2nfD",
    "executionInfo": {
     "status": "ok",
     "timestamp": 1667334380446,
     "user_tz": -180,
     "elapsed": 5,
     "user": {
      "displayName": "Daniel Guzhavin",
      "userId": "05684735323155417140"
     }
    }
   }
  },
  {
   "cell_type": "code",
   "execution_count": 23,
   "outputs": [],
   "source": [
    "gap_data = gap_data / (24 * 60 * 60)"
   ],
   "metadata": {
    "id": "MErsdkyM2nfD",
    "executionInfo": {
     "status": "ok",
     "timestamp": 1667334380446,
     "user_tz": -180,
     "elapsed": 4,
     "user": {
      "displayName": "Daniel Guzhavin",
      "userId": "05684735323155417140"
     }
    }
   }
  },
  {
   "cell_type": "code",
   "execution_count": 24,
   "outputs": [
    {
     "data": {
      "text/plain": "<AxesSubplot:>"
     },
     "execution_count": 24,
     "metadata": {},
     "output_type": "execute_result"
    },
    {
     "data": {
      "text/plain": "<Figure size 432x288 with 1 Axes>",
      "image/png": "[encoded data removed]"
     },
     "metadata": {
      "needs_background": "light"
     },
     "output_type": "display_data"
    }
   ],
   "source": [
    "gap_data.hist()"
   ],
   "metadata": {
    "colab": {
     "base_uri": "https://localhost:8080/",
     "height": 394
    },
    "id": "EBadEvSK2nfD",
    "executionInfo": {
     "status": "ok",
     "timestamp": 1667334380855,
     "user_tz": -180,
     "elapsed": 413,
     "user": {
      "displayName": "Daniel Guzhavin",
      "userId": "05684735323155417140"
     }
    },
    "outputId": "da595fc5-8c63-4f88-fbfb-1f68cede170a"
   }
  },
  {
   "cell_type": "markdown",
   "source": [
    "**Не очень-то содержательно.. Большие выбросы. Посмотрим ближе.**"
   ],
   "metadata": {
    "collapsed": false,
    "id": "Y-HCZtVu2nfE"
   }
  },
  {
   "cell_type": "code",
   "execution_count": 25,
   "outputs": [
    {
     "data": {
      "text/plain": "<AxesSubplot:>"
     },
     "execution_count": 25,
     "metadata": {},
     "output_type": "execute_result"
    },
    {
     "data": {
      "text/plain": "<Figure size 432x288 with 1 Axes>",
      "image/png": "[encoded data removed]"
     },
     "metadata": {
      "needs_background": "light"
     },
     "output_type": "display_data"
    }
   ],
   "source": [
    "gap_data[gap_data < 200].hist()"
   ],
   "metadata": {
    "colab": {
     "base_uri": "https://localhost:8080/",
     "height": 394
    },
    "id": "Cqc-7Ovm2nfE",
    "executionInfo": {
     "status": "ok",
     "timestamp": 1667334381145,
     "user_tz": -180,
     "elapsed": 295,
     "user": {
      "displayName": "Daniel Guzhavin",
      "userId": "05684735323155417140"
     }
    },
    "outputId": "40d8f581-0dd6-4d66-ce5e-52095026fac7"
   }
  },
  {
   "cell_type": "markdown",
   "source": [
    "**Уже лучше. Глянем квантили.**"
   ],
   "metadata": {
    "collapsed": false,
    "id": "I3iwl_We2nfE"
   }
  },
  {
   "cell_type": "code",
   "execution_count": 26,
   "outputs": [
    {
     "data": {
      "text/plain": "59.760440972222156"
     },
     "execution_count": 26,
     "metadata": {},
     "output_type": "execute_result"
    }
   ],
   "source": [
    "gap_data.quantile(0.95)"
   ],
   "metadata": {
    "colab": {
     "base_uri": "https://localhost:8080/"
    },
    "id": "ZLenLXMx2nfE",
    "executionInfo": {
     "status": "ok",
     "timestamp": 1667334381145,
     "user_tz": -180,
     "elapsed": 10,
     "user": {
      "displayName": "Daniel Guzhavin",
      "userId": "05684735323155417140"
     }
    },
    "outputId": "444eb76d-7d70-4f0e-c048-677e6cc4875f"
   }
  },
  {
   "cell_type": "code",
   "execution_count": 27,
   "outputs": [
    {
     "data": {
      "text/plain": "18.325995370370403"
     },
     "execution_count": 27,
     "metadata": {},
     "output_type": "execute_result"
    }
   ],
   "source": [
    "gap_data.quantile(0.90)"
   ],
   "metadata": {
    "colab": {
     "base_uri": "https://localhost:8080/"
    },
    "id": "D_7inBg22nfE",
    "executionInfo": {
     "status": "ok",
     "timestamp": 1667334381146,
     "user_tz": -180,
     "elapsed": 7,
     "user": {
      "displayName": "Daniel Guzhavin",
      "userId": "05684735323155417140"
     }
    },
    "outputId": "2e7b06aa-ddcb-4c85-a00a-78091b70dcc8"
   }
  },
  {
   "cell_type": "markdown",
   "source": [
    "**Вычислим по айпи дропнувшихся студентов. Но не забудем учесть тех, у кого не прошло 30 дней с момента последнего действия до последней записи в датасете.**"
   ],
   "metadata": {
    "collapsed": false,
    "id": "fuN-N5XI2nfF"
   }
  },
  {
   "cell_type": "code",
   "execution_count": 28,
   "outputs": [],
   "source": [
    "# Находим время последнего действия.\n",
    "users_data = events_data.groupby('user_id', as_index=False) \\\n",
    "    .agg({'timestamp': 'max'}).rename(columns={'timestamp': 'last_timestamp'})"
   ],
   "metadata": {
    "id": "ycifgI4O2nfF",
    "executionInfo": {
     "status": "ok",
     "timestamp": 1667334381146,
     "user_tz": -180,
     "elapsed": 5,
     "user": {
      "displayName": "Daniel Guzhavin",
      "userId": "05684735323155417140"
     }
    }
   }
  },
  {
   "cell_type": "markdown",
   "source": [
    "**Парочка констант, но так будет удобнее.**"
   ],
   "metadata": {
    "collapsed": false,
    "id": "LWzjVvp32nfF"
   }
  },
  {
   "cell_type": "code",
   "execution_count": 29,
   "outputs": [],
   "source": [
    "now = events_data.timestamp.max()    # Время последнего действия в ДС\n",
    "drop_out_threshold = days_for_out * 24 * 60 * 60    # Тот же временной отрезок в секундах для timestamp."
   ],
   "metadata": {
    "id": "c948Gm0w2nfF",
    "executionInfo": {
     "status": "ok",
     "timestamp": 1667334381440,
     "user_tz": -180,
     "elapsed": 299,
     "user": {
      "displayName": "Daniel Guzhavin",
      "userId": "05684735323155417140"
     }
    }
   }
  },
  {
   "cell_type": "markdown",
   "source": [
    "**Заведем новую колонку в нашей таблице с данными о юзерах, в которой укажем дропнулся студент или нет.**"
   ],
   "metadata": {
    "collapsed": false,
    "id": "tLQy-90j2nfF"
   }
  },
  {
   "cell_type": "code",
   "execution_count": 30,
   "outputs": [],
   "source": [
    "users_data['is_gone_user'] = (now - users_data.last_timestamp) > drop_out_threshold"
   ],
   "metadata": {
    "id": "hSx8Y5Sd2nfF",
    "executionInfo": {
     "status": "ok",
     "timestamp": 1667334381440,
     "user_tz": -180,
     "elapsed": 8,
     "user": {
      "displayName": "Daniel Guzhavin",
      "userId": "05684735323155417140"
     }
    }
   }
  },
  {
   "cell_type": "markdown",
   "source": [
    "**Смержим с данными об ответах. Не забудем указать тип соединения как \"внешнее\", чтобы не потерять данные.**"
   ],
   "metadata": {
    "collapsed": false,
    "id": "Hh_sa2Z32nfF"
   }
  },
  {
   "cell_type": "code",
   "execution_count": 31,
   "outputs": [],
   "source": [
    "users_data = users_data.merge(users_scores, how='outer')"
   ],
   "metadata": {
    "id": "kykWswng2nfF",
    "executionInfo": {
     "status": "ok",
     "timestamp": 1667334381441,
     "user_tz": -180,
     "elapsed": 8,
     "user": {
      "displayName": "Daniel Guzhavin",
      "userId": "05684735323155417140"
     }
    }
   }
  },
  {
   "cell_type": "code",
   "execution_count": 32,
   "outputs": [
    {
     "data": {
      "text/plain": "   user_id  last_timestamp  is_gone_user  correct  wrong\n0        1      1472827464          True      NaN    NaN\n1        2      1519226966          True      2.0    0.0\n2        3      1444581588          True     29.0   23.0\n3        5      1499859939          True      2.0    2.0\n4        7      1521634660          True      NaN    NaN",
      "text/html": "<div>\n<style scoped>\n    .dataframe tbody tr th:only-of-type {\n        vertical-align: middle;\n    }\n\n    .dataframe tbody tr th {\n        vertical-align: top;\n    }\n\n    .dataframe thead th {\n        text-align: right;\n    }\n</style>\n<table border=\"1\" class=\"dataframe\">\n  <thead>\n    <tr style=\"text-align: right;\">\n      <th></th>\n      <th>user_id</th>\n      <th>last_timestamp</th>\n      <th>is_gone_user</th>\n      <th>correct</th>\n      <th>wrong</th>\n    </tr>\n  </thead>\n  <tbody>\n    <tr>\n      <th>0</th>\n      <td>1</td>\n      <td>1472827464</td>\n      <td>True</td>\n      <td>NaN</td>\n      <td>NaN</td>\n    </tr>\n    <tr>\n      <th>1</th>\n      <td>2</td>\n      <td>1519226966</td>\n      <td>True</td>\n      <td>2.0</td>\n      <td>0.0</td>\n    </tr>\n    <tr>\n      <th>2</th>\n      <td>3</td>\n      <td>1444581588</td>\n      <td>True</td>\n      <td>29.0</td>\n      <td>23.0</td>\n    </tr>\n    <tr>\n      <th>3</th>\n      <td>5</td>\n      <td>1499859939</td>\n      <td>True</td>\n      <td>2.0</td>\n      <td>2.0</td>\n    </tr>\n    <tr>\n      <th>4</th>\n      <td>7</td>\n      <td>1521634660</td>\n      <td>True</td>\n      <td>NaN</td>\n      <td>NaN</td>\n    </tr>\n  </tbody>\n</table>\n</div>"
     },
     "execution_count": 32,
     "metadata": {},
     "output_type": "execute_result"
    }
   ],
   "source": [
    "users_data.head()"
   ],
   "metadata": {
    "colab": {
     "base_uri": "https://localhost:8080/",
     "height": 206
    },
    "id": "I5X-hceY2nfF",
    "executionInfo": {
     "status": "ok",
     "timestamp": 1667334381441,
     "user_tz": -180,
     "elapsed": 8,
     "user": {
      "displayName": "Daniel Guzhavin",
      "userId": "05684735323155417140"
     }
    },
    "outputId": "426c8636-5da4-43c5-f108-7f3844fb5787"
   }
  },
  {
   "cell_type": "markdown",
   "source": [
    "**И правильно сделали. Могли бы потерять первого же юзера, который, кстати, дропнулся. В итоге вся наша статистика сломалась бы.**"
   ],
   "metadata": {
    "collapsed": false,
    "id": "ZJsuzaHp2nfG"
   }
  },
  {
   "cell_type": "markdown",
   "source": [
    "**Теперь заполним все пустые значения нулями, добавим сюда же действия юзеров и количество уникальных дней.**"
   ],
   "metadata": {
    "collapsed": false,
    "id": "gscoTK9g2nfG"
   }
  },
  {
   "cell_type": "code",
   "execution_count": 33,
   "outputs": [],
   "source": [
    "users_data = users_data.fillna(0)"
   ],
   "metadata": {
    "id": "ankDJDWr2nfG",
    "executionInfo": {
     "status": "ok",
     "timestamp": 1667334381441,
     "user_tz": -180,
     "elapsed": 6,
     "user": {
      "displayName": "Daniel Guzhavin",
      "userId": "05684735323155417140"
     }
    }
   }
  },
  {
   "cell_type": "code",
   "execution_count": 34,
   "outputs": [],
   "source": [
    "users_data = users_data.merge(users_events_data, how='outer')"
   ],
   "metadata": {
    "id": "iIz3yJtE2nfG",
    "executionInfo": {
     "status": "ok",
     "timestamp": 1667334381441,
     "user_tz": -180,
     "elapsed": 6,
     "user": {
      "displayName": "Daniel Guzhavin",
      "userId": "05684735323155417140"
     }
    }
   }
  },
  {
   "cell_type": "code",
   "execution_count": 35,
   "outputs": [],
   "source": [
    "users_days = events_data.groupby('user_id').day.nunique().to_frame().reset_index()"
   ],
   "metadata": {
    "id": "3thp8hVx2nfG",
    "executionInfo": {
     "status": "ok",
     "timestamp": 1667334382093,
     "user_tz": -180,
     "elapsed": 657,
     "user": {
      "displayName": "Daniel Guzhavin",
      "userId": "05684735323155417140"
     }
    }
   }
  },
  {
   "cell_type": "code",
   "execution_count": 36,
   "outputs": [],
   "source": [
    "users_data = users_data.merge(users_days, how='outer')"
   ],
   "metadata": {
    "id": "MVKeW4eF2nfH",
    "executionInfo": {
     "status": "ok",
     "timestamp": 1667334382094,
     "user_tz": -180,
     "elapsed": 7,
     "user": {
      "displayName": "Daniel Guzhavin",
      "userId": "05684735323155417140"
     }
    }
   }
  },
  {
   "cell_type": "code",
   "execution_count": 37,
   "outputs": [
    {
     "data": {
      "text/plain": "   user_id  last_timestamp  is_gone_user  correct  wrong  discovered  passed  \\\n0        1      1472827464          True      0.0    0.0           1       0   \n1        2      1519226966          True      2.0    0.0           9       9   \n2        3      1444581588          True     29.0   23.0          91      87   \n3        5      1499859939          True      2.0    2.0          11      11   \n4        7      1521634660          True      0.0    0.0           1       1   \n\n   started_attempt  viewed  day  \n0                0       1    1  \n1                2      10    2  \n2               30     192    7  \n3                4      12    2  \n4                0       1    1  ",
      "text/html": "<div>\n<style scoped>\n    .dataframe tbody tr th:only-of-type {\n        vertical-align: middle;\n    }\n\n    .dataframe tbody tr th {\n        vertical-align: top;\n    }\n\n    .dataframe thead th {\n        text-align: right;\n    }\n</style>\n<table border=\"1\" class=\"dataframe\">\n  <thead>\n    <tr style=\"text-align: right;\">\n      <th></th>\n      <th>user_id</th>\n      <th>last_timestamp</th>\n      <th>is_gone_user</th>\n      <th>correct</th>\n      <th>wrong</th>\n      <th>discovered</th>\n      <th>passed</th>\n      <th>started_attempt</th>\n      <th>viewed</th>\n      <th>day</th>\n    </tr>\n  </thead>\n  <tbody>\n    <tr>\n      <th>0</th>\n      <td>1</td>\n      <td>1472827464</td>\n      <td>True</td>\n      <td>0.0</td>\n      <td>0.0</td>\n      <td>1</td>\n      <td>0</td>\n      <td>0</td>\n      <td>1</td>\n      <td>1</td>\n    </tr>\n    <tr>\n      <th>1</th>\n      <td>2</td>\n      <td>1519226966</td>\n      <td>True</td>\n      <td>2.0</td>\n      <td>0.0</td>\n      <td>9</td>\n      <td>9</td>\n      <td>2</td>\n      <td>10</td>\n      <td>2</td>\n    </tr>\n    <tr>\n      <th>2</th>\n      <td>3</td>\n      <td>1444581588</td>\n      <td>True</td>\n      <td>29.0</td>\n      <td>23.0</td>\n      <td>91</td>\n      <td>87</td>\n      <td>30</td>\n      <td>192</td>\n      <td>7</td>\n    </tr>\n    <tr>\n      <th>3</th>\n      <td>5</td>\n      <td>1499859939</td>\n      <td>True</td>\n      <td>2.0</td>\n      <td>2.0</td>\n      <td>11</td>\n      <td>11</td>\n      <td>4</td>\n      <td>12</td>\n      <td>2</td>\n    </tr>\n    <tr>\n      <th>4</th>\n      <td>7</td>\n      <td>1521634660</td>\n      <td>True</td>\n      <td>0.0</td>\n      <td>0.0</td>\n      <td>1</td>\n      <td>1</td>\n      <td>0</td>\n      <td>1</td>\n      <td>1</td>\n    </tr>\n  </tbody>\n</table>\n</div>"
     },
     "execution_count": 37,
     "metadata": {},
     "output_type": "execute_result"
    }
   ],
   "source": [
    "users_data.head()"
   ],
   "metadata": {
    "colab": {
     "base_uri": "https://localhost:8080/",
     "height": 206
    },
    "id": "cwt7lSTB2nfH",
    "executionInfo": {
     "status": "ok",
     "timestamp": 1667334382094,
     "user_tz": -180,
     "elapsed": 7,
     "user": {
      "displayName": "Daniel Guzhavin",
      "userId": "05684735323155417140"
     }
    },
    "outputId": "376abd9b-f659-4b48-8033-0c409f375f04"
   }
  },
  {
   "cell_type": "markdown",
   "source": [
    "**Не забудем и про тех студентов, кто прошел курс и имеет полное право не заходить больше на курс. Добавим новую колонку с таким критерием.**"
   ],
   "metadata": {
    "collapsed": false,
    "id": "k0d7ijWA2nfH"
   }
  },
  {
   "cell_type": "code",
   "execution_count": 38,
   "outputs": [],
   "source": [
    "users_data['passed_course'] = users_data.passed > 170   # Тут мы определили, что студент считается прошедшим курс, если набрал 170 баллов"
   ],
   "metadata": {
    "id": "bqNqENAM2nfH",
    "executionInfo": {
     "status": "ok",
     "timestamp": 1667334382095,
     "user_tz": -180,
     "elapsed": 7,
     "user": {
      "displayName": "Daniel Guzhavin",
      "userId": "05684735323155417140"
     }
    }
   }
  },
  {
   "cell_type": "code",
   "execution_count": 39,
   "outputs": [
    {
     "data": {
      "text/plain": "   user_id  last_timestamp  is_gone_user  correct  wrong  discovered  passed  \\\n0        1      1472827464          True      0.0    0.0           1       0   \n1        2      1519226966          True      2.0    0.0           9       9   \n2        3      1444581588          True     29.0   23.0          91      87   \n3        5      1499859939          True      2.0    2.0          11      11   \n4        7      1521634660          True      0.0    0.0           1       1   \n\n   started_attempt  viewed  day  passed_course  \n0                0       1    1          False  \n1                2      10    2          False  \n2               30     192    7          False  \n3                4      12    2          False  \n4                0       1    1          False  ",
      "text/html": "<div>\n<style scoped>\n    .dataframe tbody tr th:only-of-type {\n        vertical-align: middle;\n    }\n\n    .dataframe tbody tr th {\n        vertical-align: top;\n    }\n\n    .dataframe thead th {\n        text-align: right;\n    }\n</style>\n<table border=\"1\" class=\"dataframe\">\n  <thead>\n    <tr style=\"text-align: right;\">\n      <th></th>\n      <th>user_id</th>\n      <th>last_timestamp</th>\n      <th>is_gone_user</th>\n      <th>correct</th>\n      <th>wrong</th>\n      <th>discovered</th>\n      <th>passed</th>\n      <th>started_attempt</th>\n      <th>viewed</th>\n      <th>day</th>\n      <th>passed_course</th>\n    </tr>\n  </thead>\n  <tbody>\n    <tr>\n      <th>0</th>\n      <td>1</td>\n      <td>1472827464</td>\n      <td>True</td>\n      <td>0.0</td>\n      <td>0.0</td>\n      <td>1</td>\n      <td>0</td>\n      <td>0</td>\n      <td>1</td>\n      <td>1</td>\n      <td>False</td>\n    </tr>\n    <tr>\n      <th>1</th>\n      <td>2</td>\n      <td>1519226966</td>\n      <td>True</td>\n      <td>2.0</td>\n      <td>0.0</td>\n      <td>9</td>\n      <td>9</td>\n      <td>2</td>\n      <td>10</td>\n      <td>2</td>\n      <td>False</td>\n    </tr>\n    <tr>\n      <th>2</th>\n      <td>3</td>\n      <td>1444581588</td>\n      <td>True</td>\n      <td>29.0</td>\n      <td>23.0</td>\n      <td>91</td>\n      <td>87</td>\n      <td>30</td>\n      <td>192</td>\n      <td>7</td>\n      <td>False</td>\n    </tr>\n    <tr>\n      <th>3</th>\n      <td>5</td>\n      <td>1499859939</td>\n      <td>True</td>\n      <td>2.0</td>\n      <td>2.0</td>\n      <td>11</td>\n      <td>11</td>\n      <td>4</td>\n      <td>12</td>\n      <td>2</td>\n      <td>False</td>\n    </tr>\n    <tr>\n      <th>4</th>\n      <td>7</td>\n      <td>1521634660</td>\n      <td>True</td>\n      <td>0.0</td>\n      <td>0.0</td>\n      <td>1</td>\n      <td>1</td>\n      <td>0</td>\n      <td>1</td>\n      <td>1</td>\n      <td>False</td>\n    </tr>\n  </tbody>\n</table>\n</div>"
     },
     "execution_count": 39,
     "metadata": {},
     "output_type": "execute_result"
    }
   ],
   "source": [
    "users_data.head()"
   ],
   "metadata": {
    "colab": {
     "base_uri": "https://localhost:8080/",
     "height": 206
    },
    "id": "y6Jb87Sc2nfH",
    "executionInfo": {
     "status": "ok",
     "timestamp": 1667334382095,
     "user_tz": -180,
     "elapsed": 7,
     "user": {
      "displayName": "Daniel Guzhavin",
      "userId": "05684735323155417140"
     }
    },
    "outputId": "072c6030-57fd-4360-ef81-dd9255653970"
   }
  },
  {
   "cell_type": "code",
   "execution_count": 40,
   "outputs": [
    {
     "data": {
      "text/plain": "               user_id  last_timestamp  is_gone_user  correct  wrong  \\\npassed_course                                                          \nFalse            17809           17809         17809    17809  17809   \nTrue              1425            1425          1425     1425   1425   \n\n               discovered  passed  started_attempt  viewed    day  \npassed_course                                                      \nFalse               17809   17809            17809   17809  17809  \nTrue                 1425    1425             1425    1425   1425  ",
      "text/html": "<div>\n<style scoped>\n    .dataframe tbody tr th:only-of-type {\n        vertical-align: middle;\n    }\n\n    .dataframe tbody tr th {\n        vertical-align: top;\n    }\n\n    .dataframe thead th {\n        text-align: right;\n    }\n</style>\n<table border=\"1\" class=\"dataframe\">\n  <thead>\n    <tr style=\"text-align: right;\">\n      <th></th>\n      <th>user_id</th>\n      <th>last_timestamp</th>\n      <th>is_gone_user</th>\n      <th>correct</th>\n      <th>wrong</th>\n      <th>discovered</th>\n      <th>passed</th>\n      <th>started_attempt</th>\n      <th>viewed</th>\n      <th>day</th>\n    </tr>\n    <tr>\n      <th>passed_course</th>\n      <th></th>\n      <th></th>\n      <th></th>\n      <th></th>\n      <th></th>\n      <th></th>\n      <th></th>\n      <th></th>\n      <th></th>\n      <th></th>\n    </tr>\n  </thead>\n  <tbody>\n    <tr>\n      <th>False</th>\n      <td>17809</td>\n      <td>17809</td>\n      <td>17809</td>\n      <td>17809</td>\n      <td>17809</td>\n      <td>17809</td>\n      <td>17809</td>\n      <td>17809</td>\n      <td>17809</td>\n      <td>17809</td>\n    </tr>\n    <tr>\n      <th>True</th>\n      <td>1425</td>\n      <td>1425</td>\n      <td>1425</td>\n      <td>1425</td>\n      <td>1425</td>\n      <td>1425</td>\n      <td>1425</td>\n      <td>1425</td>\n      <td>1425</td>\n      <td>1425</td>\n    </tr>\n  </tbody>\n</table>\n</div>"
     },
     "execution_count": 40,
     "metadata": {},
     "output_type": "execute_result"
    }
   ],
   "source": [
    "users_data.groupby('passed_course').count()"
   ],
   "metadata": {
    "colab": {
     "base_uri": "https://localhost:8080/",
     "height": 143
    },
    "id": "DAfx-npe2nfI",
    "executionInfo": {
     "status": "ok",
     "timestamp": 1667334384619,
     "user_tz": -180,
     "elapsed": 6,
     "user": {
      "displayName": "Daniel Guzhavin",
      "userId": "05684735323155417140"
     }
    },
    "outputId": "13749af8-9d96-4f70-e33d-6e079b08afe6"
   }
  },
  {
   "cell_type": "markdown",
   "source": [
    "**Небольшая проверка себя.**"
   ],
   "metadata": {
    "collapsed": false,
    "id": "AOFw5FSB2nfI"
   }
  },
  {
   "cell_type": "code",
   "execution_count": 41,
   "outputs": [
    {
     "data": {
      "text/plain": "8.001572238755685"
     },
     "execution_count": 41,
     "metadata": {},
     "output_type": "execute_result"
    }
   ],
   "source": [
    "100 * 1425 / 17809"
   ],
   "metadata": {
    "colab": {
     "base_uri": "https://localhost:8080/"
    },
    "id": "zaTP7QKQ2nfI",
    "executionInfo": {
     "status": "ok",
     "timestamp": 1667334386159,
     "user_tz": -180,
     "elapsed": 6,
     "user": {
      "displayName": "Daniel Guzhavin",
      "userId": "05684735323155417140"
     }
    },
    "outputId": "58efd893-74ee-4592-8fac-ff16082d07b4"
   }
  },
  {
   "cell_type": "markdown",
   "source": [
    "**8% студентов закончили курс, что не противоречит общей статистике.**"
   ],
   "metadata": {
    "collapsed": false,
    "id": "gSJodhKi2nfI"
   }
  },
  {
   "cell_type": "code",
   "execution_count": 42,
   "outputs": [
    {
     "data": {
      "text/plain": "1.0"
     },
     "execution_count": 42,
     "metadata": {},
     "output_type": "execute_result"
    }
   ],
   "source": [
    "users_data[users_data.passed_course == False].day.median()"
   ],
   "metadata": {
    "colab": {
     "base_uri": "https://localhost:8080/"
    },
    "id": "l2VNT4Z02nfI",
    "executionInfo": {
     "status": "ok",
     "timestamp": 1667334386932,
     "user_tz": -180,
     "elapsed": 4,
     "user": {
      "displayName": "Daniel Guzhavin",
      "userId": "05684735323155417140"
     }
    },
    "outputId": "4c68b0f4-be17-4ac7-8633-939a3fc673d8"
   }
  },
  {
   "cell_type": "markdown",
   "source": [
    "**Студенты, которые дропнулись, в среднем, проучились 1 уникальный день. Такой перекос из-за тех, кто \"пробовал\" (скорее всего). Можно попробовать их исключить:**"
   ],
   "metadata": {
    "collapsed": false,
    "id": "44ONO2Qw2nfI"
   }
  },
  {
   "cell_type": "code",
   "execution_count": 43,
   "outputs": [
    {
     "data": {
      "text/plain": "5.0"
     },
     "execution_count": 43,
     "metadata": {},
     "output_type": "execute_result"
    }
   ],
   "source": [
    "users_data[(users_data.passed_course == False) & (users_data.day > 1)].day.median()"
   ],
   "metadata": {
    "colab": {
     "base_uri": "https://localhost:8080/"
    },
    "id": "d72_pjfV2nfI",
    "executionInfo": {
     "status": "ok",
     "timestamp": 1667334389167,
     "user_tz": -180,
     "elapsed": 7,
     "user": {
      "displayName": "Daniel Guzhavin",
      "userId": "05684735323155417140"
     }
    },
    "outputId": "f496642e-b8b4-4122-f369-93be24d384b7"
   }
  },
  {
   "cell_type": "markdown",
   "source": [
    "**А вот столько, в среднем, они пытались. 5 уникальных дней. Мы пытаемся предсказать их поведение за 3 календарных дня. Должно быть достаточно.\n",
    "А вот столько уникальных дней учатся те, кто заканчивает курс. В среднем:**"
   ],
   "metadata": {
    "collapsed": false,
    "id": "GjqiIj9P2nfJ"
   }
  },
  {
   "cell_type": "code",
   "execution_count": 44,
   "outputs": [
    {
     "data": {
      "text/plain": "20.0"
     },
     "execution_count": 44,
     "metadata": {},
     "output_type": "execute_result"
    }
   ],
   "source": [
    "users_data[users_data.passed_course == True].day.median()"
   ],
   "metadata": {
    "colab": {
     "base_uri": "https://localhost:8080/"
    },
    "id": "cKIbqiwX2nfJ",
    "executionInfo": {
     "status": "ok",
     "timestamp": 1667334389168,
     "user_tz": -180,
     "elapsed": 5,
     "user": {
      "displayName": "Daniel Guzhavin",
      "userId": "05684735323155417140"
     }
    },
    "outputId": "4e014772-5d74-4d31-cc76-541be0233784"
   }
  },
  {
   "cell_type": "markdown",
   "source": [
    "**Неплохо.\n",
    "Теперь узнаем, когда пользователь совершил первое действие на курсе.**"
   ],
   "metadata": {
    "collapsed": false,
    "id": "EUsjPPd42nfJ"
   }
  },
  {
   "cell_type": "code",
   "execution_count": 45,
   "outputs": [],
   "source": [
    "user_min_time = events_data.groupby('user_id', as_index=False) \\\n",
    "    .agg({'timestamp': 'min'}) \\\n",
    "    .rename({'timestamp': 'min_timestamp'}, axis=1)"
   ],
   "metadata": {
    "id": "vtxI2H702nfJ",
    "executionInfo": {
     "status": "ok",
     "timestamp": 1667334389168,
     "user_tz": -180,
     "elapsed": 2,
     "user": {
      "displayName": "Daniel Guzhavin",
      "userId": "05684735323155417140"
     }
    }
   }
  },
  {
   "cell_type": "code",
   "execution_count": 46,
   "outputs": [],
   "source": [
    "users_data = users_data.merge(user_min_time, how='outer')"
   ],
   "metadata": {
    "id": "SANOFdc12nfJ",
    "executionInfo": {
     "status": "ok",
     "timestamp": 1667334390198,
     "user_tz": -180,
     "elapsed": 6,
     "user": {
      "displayName": "Daniel Guzhavin",
      "userId": "05684735323155417140"
     }
    }
   }
  },
  {
   "cell_type": "code",
   "execution_count": 47,
   "outputs": [
    {
     "data": {
      "text/plain": "   user_id  min_timestamp\n0        1     1472827464\n1        2     1514383364\n2        3     1434358476\n3        5     1466156809\n4        7     1521634660",
      "text/html": "<div>\n<style scoped>\n    .dataframe tbody tr th:only-of-type {\n        vertical-align: middle;\n    }\n\n    .dataframe tbody tr th {\n        vertical-align: top;\n    }\n\n    .dataframe thead th {\n        text-align: right;\n    }\n</style>\n<table border=\"1\" class=\"dataframe\">\n  <thead>\n    <tr style=\"text-align: right;\">\n      <th></th>\n      <th>user_id</th>\n      <th>min_timestamp</th>\n    </tr>\n  </thead>\n  <tbody>\n    <tr>\n      <th>0</th>\n      <td>1</td>\n      <td>1472827464</td>\n    </tr>\n    <tr>\n      <th>1</th>\n      <td>2</td>\n      <td>1514383364</td>\n    </tr>\n    <tr>\n      <th>2</th>\n      <td>3</td>\n      <td>1434358476</td>\n    </tr>\n    <tr>\n      <th>3</th>\n      <td>5</td>\n      <td>1466156809</td>\n    </tr>\n    <tr>\n      <th>4</th>\n      <td>7</td>\n      <td>1521634660</td>\n    </tr>\n  </tbody>\n</table>\n</div>"
     },
     "execution_count": 47,
     "metadata": {},
     "output_type": "execute_result"
    }
   ],
   "source": [
    "user_min_time.head()"
   ],
   "metadata": {
    "colab": {
     "base_uri": "https://localhost:8080/",
     "height": 206
    },
    "id": "j0c5jBV52nfJ",
    "executionInfo": {
     "status": "ok",
     "timestamp": 1667334390198,
     "user_tz": -180,
     "elapsed": 6,
     "user": {
      "displayName": "Daniel Guzhavin",
      "userId": "05684735323155417140"
     }
    },
    "outputId": "1feaa431-516b-49cc-bf4b-b12581177590"
   }
  },
  {
   "cell_type": "markdown",
   "source": [
    "**Теперь из events_data нам нужно получить данные о действиях юзера за то количество первых дней, которое мы задали в условии.**"
   ],
   "metadata": {
    "collapsed": false,
    "id": "G7WhxxMr2nfJ"
   }
  },
  {
   "cell_type": "code",
   "execution_count": 48,
   "outputs": [
    {
     "data": {
      "text/plain": "   step_id   timestamp      action  user_id                date         day\n0    32815  1434340848      viewed    17632 2015-06-15 04:00:48  2015-06-15\n1    32815  1434340848      passed    17632 2015-06-15 04:00:48  2015-06-15\n2    32815  1434340848  discovered    17632 2015-06-15 04:00:48  2015-06-15\n3    32811  1434340895  discovered    17632 2015-06-15 04:01:35  2015-06-15\n4    32811  1434340895      viewed    17632 2015-06-15 04:01:35  2015-06-15",
      "text/html": "<div>\n<style scoped>\n    .dataframe tbody tr th:only-of-type {\n        vertical-align: middle;\n    }\n\n    .dataframe tbody tr th {\n        vertical-align: top;\n    }\n\n    .dataframe thead th {\n        text-align: right;\n    }\n</style>\n<table border=\"1\" class=\"dataframe\">\n  <thead>\n    <tr style=\"text-align: right;\">\n      <th></th>\n      <th>step_id</th>\n      <th>timestamp</th>\n      <th>action</th>\n      <th>user_id</th>\n      <th>date</th>\n      <th>day</th>\n    </tr>\n  </thead>\n  <tbody>\n    <tr>\n      <th>0</th>\n      <td>32815</td>\n      <td>1434340848</td>\n      <td>viewed</td>\n      <td>17632</td>\n      <td>2015-06-15 04:00:48</td>\n      <td>2015-06-15</td>\n    </tr>\n    <tr>\n      <th>1</th>\n      <td>32815</td>\n      <td>1434340848</td>\n      <td>passed</td>\n      <td>17632</td>\n      <td>2015-06-15 04:00:48</td>\n      <td>2015-06-15</td>\n    </tr>\n    <tr>\n      <th>2</th>\n      <td>32815</td>\n      <td>1434340848</td>\n      <td>discovered</td>\n      <td>17632</td>\n      <td>2015-06-15 04:00:48</td>\n      <td>2015-06-15</td>\n    </tr>\n    <tr>\n      <th>3</th>\n      <td>32811</td>\n      <td>1434340895</td>\n      <td>discovered</td>\n      <td>17632</td>\n      <td>2015-06-15 04:01:35</td>\n      <td>2015-06-15</td>\n    </tr>\n    <tr>\n      <th>4</th>\n      <td>32811</td>\n      <td>1434340895</td>\n      <td>viewed</td>\n      <td>17632</td>\n      <td>2015-06-15 04:01:35</td>\n      <td>2015-06-15</td>\n    </tr>\n  </tbody>\n</table>\n</div>"
     },
     "execution_count": 48,
     "metadata": {},
     "output_type": "execute_result"
    }
   ],
   "source": [
    "events_data.head()"
   ],
   "metadata": {
    "colab": {
     "base_uri": "https://localhost:8080/",
     "height": 206
    },
    "id": "w3U6r2ty2nfJ",
    "executionInfo": {
     "status": "ok",
     "timestamp": 1667334390199,
     "user_tz": -180,
     "elapsed": 6,
     "user": {
      "displayName": "Daniel Guzhavin",
      "userId": "05684735323155417140"
     }
    },
    "outputId": "105f0d89-c47e-4941-9058-9dea6bdf3a4b"
   }
  },
  {
   "cell_type": "markdown",
   "source": [
    "**Если делать этот фильтр циклом, то потратим очень много времени.\n",
    "Есть вот такой интересный способ.**"
   ],
   "metadata": {
    "collapsed": false,
    "id": "-94BWYgs2nfK"
   }
  },
  {
   "cell_type": "code",
   "execution_count": 49,
   "outputs": [],
   "source": [
    "event_data_train = pd.DataFrame()"
   ],
   "metadata": {
    "id": "dyy2xppK2nfK",
    "executionInfo": {
     "status": "ok",
     "timestamp": 1667334390199,
     "user_tz": -180,
     "elapsed": 5,
     "user": {
      "displayName": "Daniel Guzhavin",
      "userId": "05684735323155417140"
     }
    }
   }
  },
  {
   "cell_type": "markdown",
   "source": [
    "**Конкатенируем айди нашего юзера и его время в новый столбец с помощью преобразования в строку и конкатенации строк. Это один из вариантов очень сильно сэкономить время.**"
   ],
   "metadata": {
    "collapsed": false,
    "id": "KpcJFi8y2nfK"
   }
  },
  {
   "cell_type": "code",
   "execution_count": 50,
   "outputs": [],
   "source": [
    "events_data['user_time'] = events_data.timestamp.map(str)"
   ],
   "metadata": {
    "id": "9Bjybc6g2nfK",
    "executionInfo": {
     "status": "ok",
     "timestamp": 1667334391685,
     "user_tz": -180,
     "elapsed": 542,
     "user": {
      "displayName": "Daniel Guzhavin",
      "userId": "05684735323155417140"
     }
    }
   }
  },
  {
   "cell_type": "code",
   "execution_count": 51,
   "outputs": [],
   "source": [
    "learning_time_treshold = days_for_predict * 24 * 60 * 60    # Время в секундах"
   ],
   "metadata": {
    "id": "7Si-TVeu2nfK",
    "executionInfo": {
     "status": "ok",
     "timestamp": 1667334391686,
     "user_tz": -180,
     "elapsed": 4,
     "user": {
      "displayName": "Daniel Guzhavin",
      "userId": "05684735323155417140"
     }
    }
   }
  },
  {
   "cell_type": "markdown",
   "source": [
    "**Делаем то же, что и выше, только для дедлайна, до которого мы ходим определить дропнется ли студент. Эти данным нам и интересны.\n",
    "Затем сохраним это дело в новую колонку, опять-таки, для ускорения работы программы.**"
   ],
   "metadata": {
    "collapsed": false,
    "id": "MyczLvYy2nfK"
   }
  },
  {
   "cell_type": "code",
   "execution_count": 52,
   "outputs": [],
   "source": [
    "user_learning_time_treshold =(user_min_time.min_timestamp + learning_time_treshold).map(str)"
   ],
   "metadata": {
    "id": "P7BHznb12nfK",
    "executionInfo": {
     "status": "ok",
     "timestamp": 1667334391686,
     "user_tz": -180,
     "elapsed": 4,
     "user": {
      "displayName": "Daniel Guzhavin",
      "userId": "05684735323155417140"
     }
    }
   }
  },
  {
   "cell_type": "code",
   "execution_count": 53,
   "outputs": [],
   "source": [
    "user_min_time['user_learning_time_treshold'] = user_learning_time_treshold"
   ],
   "metadata": {
    "id": "dQ_rtH3d2nfK",
    "executionInfo": {
     "status": "ok",
     "timestamp": 1667334391687,
     "user_tz": -180,
     "elapsed": 4,
     "user": {
      "displayName": "Daniel Guzhavin",
      "userId": "05684735323155417140"
     }
    }
   }
  },
  {
   "cell_type": "code",
   "execution_count": 54,
   "outputs": [],
   "source": [
    "events_data = events_data.merge(user_min_time[['user_id', 'user_learning_time_treshold']], how='outer')"
   ],
   "metadata": {
    "id": "O-ZDoMmD2nfL",
    "executionInfo": {
     "status": "ok",
     "timestamp": 1667334392999,
     "user_tz": -180,
     "elapsed": 1316,
     "user": {
      "displayName": "Daniel Guzhavin",
      "userId": "05684735323155417140"
     }
    }
   }
  },
  {
   "cell_type": "markdown",
   "source": [
    "**Как хорошо, что мы можем сравнивать строки :)\n",
    "Отбираем только нужные нам действия, совершенные за выбранный выше период.\n",
    "Не будем перезаписывать, чтобы оставить за собой возможность в дальнейшем менять период. Создадим новый датафрейм.**"
   ],
   "metadata": {
    "collapsed": false,
    "id": "zKfAONMs2nfL"
   }
  },
  {
   "cell_type": "code",
   "execution_count": 55,
   "outputs": [],
   "source": [
    "event_data_train = events_data[events_data.user_time <= events_data.user_learning_time_treshold]"
   ],
   "metadata": {
    "id": "YAttRuhw2nfL",
    "executionInfo": {
     "status": "ok",
     "timestamp": 1667334394444,
     "user_tz": -180,
     "elapsed": 883,
     "user": {
      "displayName": "Daniel Guzhavin",
      "userId": "05684735323155417140"
     }
    }
   }
  },
  {
   "cell_type": "code",
   "execution_count": 56,
   "outputs": [
    {
     "data": {
      "text/plain": "   step_id   timestamp      action  user_id                date         day  \\\n0    32815  1434340848      viewed    17632 2015-06-15 04:00:48  2015-06-15   \n1    32815  1434340848      passed    17632 2015-06-15 04:00:48  2015-06-15   \n2    32815  1434340848  discovered    17632 2015-06-15 04:00:48  2015-06-15   \n3    32811  1434340895  discovered    17632 2015-06-15 04:01:35  2015-06-15   \n4    32811  1434340895      viewed    17632 2015-06-15 04:01:35  2015-06-15   \n\n    user_time user_learning_time_treshold  \n0  1434340848                  1434600048  \n1  1434340848                  1434600048  \n2  1434340848                  1434600048  \n3  1434340895                  1434600048  \n4  1434340895                  1434600048  ",
      "text/html": "<div>\n<style scoped>\n    .dataframe tbody tr th:only-of-type {\n        vertical-align: middle;\n    }\n\n    .dataframe tbody tr th {\n        vertical-align: top;\n    }\n\n    .dataframe thead th {\n        text-align: right;\n    }\n</style>\n<table border=\"1\" class=\"dataframe\">\n  <thead>\n    <tr style=\"text-align: right;\">\n      <th></th>\n      <th>step_id</th>\n      <th>timestamp</th>\n      <th>action</th>\n      <th>user_id</th>\n      <th>date</th>\n      <th>day</th>\n      <th>user_time</th>\n      <th>user_learning_time_treshold</th>\n    </tr>\n  </thead>\n  <tbody>\n    <tr>\n      <th>0</th>\n      <td>32815</td>\n      <td>1434340848</td>\n      <td>viewed</td>\n      <td>17632</td>\n      <td>2015-06-15 04:00:48</td>\n      <td>2015-06-15</td>\n      <td>1434340848</td>\n      <td>1434600048</td>\n    </tr>\n    <tr>\n      <th>1</th>\n      <td>32815</td>\n      <td>1434340848</td>\n      <td>passed</td>\n      <td>17632</td>\n      <td>2015-06-15 04:00:48</td>\n      <td>2015-06-15</td>\n      <td>1434340848</td>\n      <td>1434600048</td>\n    </tr>\n    <tr>\n      <th>2</th>\n      <td>32815</td>\n      <td>1434340848</td>\n      <td>discovered</td>\n      <td>17632</td>\n      <td>2015-06-15 04:00:48</td>\n      <td>2015-06-15</td>\n      <td>1434340848</td>\n      <td>1434600048</td>\n    </tr>\n    <tr>\n      <th>3</th>\n      <td>32811</td>\n      <td>1434340895</td>\n      <td>discovered</td>\n      <td>17632</td>\n      <td>2015-06-15 04:01:35</td>\n      <td>2015-06-15</td>\n      <td>1434340895</td>\n      <td>1434600048</td>\n    </tr>\n    <tr>\n      <th>4</th>\n      <td>32811</td>\n      <td>1434340895</td>\n      <td>viewed</td>\n      <td>17632</td>\n      <td>2015-06-15 04:01:35</td>\n      <td>2015-06-15</td>\n      <td>1434340895</td>\n      <td>1434600048</td>\n    </tr>\n  </tbody>\n</table>\n</div>"
     },
     "execution_count": 56,
     "metadata": {},
     "output_type": "execute_result"
    }
   ],
   "source": [
    "event_data_train.head()"
   ],
   "metadata": {
    "colab": {
     "base_uri": "https://localhost:8080/",
     "height": 206
    },
    "id": "SCgFU3vP2nfL",
    "executionInfo": {
     "status": "ok",
     "timestamp": 1667334396324,
     "user_tz": -180,
     "elapsed": 1886,
     "user": {
      "displayName": "Daniel Guzhavin",
      "userId": "05684735323155417140"
     }
    },
    "outputId": "3703cc48-91be-4ec5-ed5d-4107304f3365"
   }
  },
  {
   "cell_type": "code",
   "execution_count": 57,
   "outputs": [
    {
     "data": {
      "text/plain": "4"
     },
     "execution_count": 57,
     "metadata": {},
     "output_type": "execute_result"
    }
   ],
   "source": [
    "event_data_train.groupby('user_id').day.nunique().max()"
   ],
   "metadata": {
    "colab": {
     "base_uri": "https://localhost:8080/"
    },
    "id": "dWE3SE3P2nfL",
    "executionInfo": {
     "status": "ok",
     "timestamp": 1667334396325,
     "user_tz": -180,
     "elapsed": 16,
     "user": {
      "displayName": "Daniel Guzhavin",
      "userId": "05684735323155417140"
     }
    },
    "outputId": "946c8929-4276-49a5-f814-50d837f88740"
   }
  },
  {
   "cell_type": "markdown",
   "source": [
    "**Это нормально, что мы получили 4 уникальных дня, потому что 3-е суток могут в большинстве случаев включать в себя 4 уникальных дня.**"
   ],
   "metadata": {
    "collapsed": false,
    "id": "CB2POIS62nfL"
   }
  },
  {
   "cell_type": "markdown",
   "source": [
    "**То же самое мы делаем с другой таблицей.**"
   ],
   "metadata": {
    "collapsed": false,
    "id": "gk3M3GCF2nfL"
   }
  },
  {
   "cell_type": "code",
   "execution_count": 58,
   "outputs": [
    {
     "data": {
      "text/plain": "4"
     },
     "execution_count": 58,
     "metadata": {},
     "output_type": "execute_result"
    }
   ],
   "source": [
    "submissions_data['users_time'] = submissions_data.timestamp.map(str)\n",
    "submissions_data = submissions_data.merge(user_min_time[['user_id', 'user_learning_time_treshold']], how='outer')\n",
    "submissions_data_train = submissions_data[submissions_data.users_time <= submissions_data.user_learning_time_treshold]\n",
    "submissions_data_train.groupby('user_id').day.nunique().max()"
   ],
   "metadata": {
    "colab": {
     "base_uri": "https://localhost:8080/"
    },
    "id": "PGP36nGe2nfL",
    "executionInfo": {
     "status": "ok",
     "timestamp": 1667334396326,
     "user_tz": -180,
     "elapsed": 14,
     "user": {
      "displayName": "Daniel Guzhavin",
      "userId": "05684735323155417140"
     }
    },
    "outputId": "5a4a2138-fdb0-4f2e-c7f3-80b818347315"
   }
  },
  {
   "cell_type": "markdown",
   "source": [
    "**Наконец-то мы можем начать формировать датафрейм Х и наполнять его фичами.**"
   ],
   "metadata": {
    "collapsed": false,
    "id": "EIa6Q1Rj2nfL"
   }
  },
  {
   "cell_type": "code",
   "execution_count": 59,
   "outputs": [],
   "source": [
    "X = submissions_data_train.groupby('user_id').day.nunique().to_frame().reset_index() \\\n",
    "    .rename(columns={'day': 'days'})"
   ],
   "metadata": {
    "id": "a7yh-OyW2nfM",
    "executionInfo": {
     "status": "ok",
     "timestamp": 1667334396326,
     "user_tz": -180,
     "elapsed": 10,
     "user": {
      "displayName": "Daniel Guzhavin",
      "userId": "05684735323155417140"
     }
    }
   }
  },
  {
   "cell_type": "markdown",
   "source": [
    "**Запишем количество уникальных степов, которые пользователь попытался решить.**"
   ],
   "metadata": {
    "collapsed": false,
    "id": "z0W3N2-Q2nfM"
   }
  },
  {
   "cell_type": "code",
   "execution_count": 60,
   "outputs": [],
   "source": [
    "steps_tried = submissions_data_train.groupby('user_id').step_id.nunique().to_frame().reset_index() \\\n",
    "    .rename(columns={'step_id': 'steps_tried'})"
   ],
   "metadata": {
    "id": "XzgzZvcC2nfM",
    "executionInfo": {
     "status": "ok",
     "timestamp": 1667334396327,
     "user_tz": -180,
     "elapsed": 10,
     "user": {
      "displayName": "Daniel Guzhavin",
      "userId": "05684735323155417140"
     }
    }
   }
  },
  {
   "cell_type": "code",
   "execution_count": 61,
   "outputs": [],
   "source": [
    "X = X.merge(steps_tried,on='user_id', how='outer')"
   ],
   "metadata": {
    "id": "uKtNNZ682nfM",
    "executionInfo": {
     "status": "ok",
     "timestamp": 1667334396327,
     "user_tz": -180,
     "elapsed": 9,
     "user": {
      "displayName": "Daniel Guzhavin",
      "userId": "05684735323155417140"
     }
    }
   }
  },
  {
   "cell_type": "markdown",
   "source": [
    "**Добавим правильные и неправильные ответы, а также долю правильных ответов.**"
   ],
   "metadata": {
    "collapsed": false,
    "id": "Za4FRrOA2nfM"
   }
  },
  {
   "cell_type": "code",
   "execution_count": 62,
   "outputs": [],
   "source": [
    "X = X.merge(submissions_data_train.pivot_table(index='user_id',\n",
    "                                           columns='submission_status',\n",
    "                                           values='step_id',\n",
    "                                           aggfunc='count',\n",
    "                                           fill_value=0).reset_index())"
   ],
   "metadata": {
    "id": "gwuByPIT2nfM",
    "executionInfo": {
     "status": "ok",
     "timestamp": 1667334396327,
     "user_tz": -180,
     "elapsed": 8,
     "user": {
      "displayName": "Daniel Guzhavin",
      "userId": "05684735323155417140"
     }
    }
   }
  },
  {
   "cell_type": "code",
   "execution_count": 63,
   "outputs": [],
   "source": [
    "X['correct ratio'] = X.correct / (X.correct + X.wrong)"
   ],
   "metadata": {
    "id": "JKsWDsm62nfM",
    "executionInfo": {
     "status": "ok",
     "timestamp": 1667334396327,
     "user_tz": -180,
     "elapsed": 8,
     "user": {
      "displayName": "Daniel Guzhavin",
      "userId": "05684735323155417140"
     }
    }
   }
  },
  {
   "cell_type": "code",
   "execution_count": 64,
   "outputs": [],
   "source": [
    "X = X.merge(event_data_train.pivot_table(index='user_id',\n",
    "                                               columns='action',\n",
    "                                               values='step_id',\n",
    "                                               aggfunc='count',\n",
    "                                               fill_value=0).reset_index()[['user_id', 'viewed']], how='outer')"
   ],
   "metadata": {
    "id": "omOKx-3X2nfM",
    "executionInfo": {
     "status": "ok",
     "timestamp": 1667334398535,
     "user_tz": -180,
     "elapsed": 2215,
     "user": {
      "displayName": "Daniel Guzhavin",
      "userId": "05684735323155417140"
     }
    }
   }
  },
  {
   "cell_type": "code",
   "execution_count": 65,
   "outputs": [],
   "source": [
    "X = X.fillna(0)"
   ],
   "metadata": {
    "id": "7RzJGUlv2nfM",
    "executionInfo": {
     "status": "ok",
     "timestamp": 1667334398536,
     "user_tz": -180,
     "elapsed": 10,
     "user": {
      "displayName": "Daniel Guzhavin",
      "userId": "05684735323155417140"
     }
    }
   }
  },
  {
   "cell_type": "markdown",
   "source": [
    "**Добавим временные колонки. Закончил ли студент курс и покинул ли он его.**"
   ],
   "metadata": {
    "collapsed": false,
    "id": "5tAAq_cm2nfN"
   }
  },
  {
   "cell_type": "code",
   "execution_count": 66,
   "outputs": [],
   "source": [
    "X = X.merge(users_data[['user_id', 'passed_course', 'is_gone_user']], on='user_id', how='outer')"
   ],
   "metadata": {
    "id": "bJ7BalMC2nfN",
    "executionInfo": {
     "status": "ok",
     "timestamp": 1667334398536,
     "user_tz": -180,
     "elapsed": 9,
     "user": {
      "displayName": "Daniel Guzhavin",
      "userId": "05684735323155417140"
     }
    }
   }
  },
  {
   "cell_type": "markdown",
   "source": [
    "**Отбираем по условию: убираем тех, кто не дропнулся и не получил диплом. То есть уберем тех, кто еще учится.\n",
    "А останутся студенты, которые прошли курс, либо бросили его.**"
   ],
   "metadata": {
    "collapsed": false,
    "id": "LzZI0BRW2nfN"
   }
  },
  {
   "cell_type": "code",
   "execution_count": 67,
   "outputs": [],
   "source": [
    "X = X[~((X.is_gone_user == False) & (X.passed_course == False))]"
   ],
   "metadata": {
    "id": "teJpp9JA2nfN",
    "executionInfo": {
     "status": "ok",
     "timestamp": 1667334398537,
     "user_tz": -180,
     "elapsed": 10,
     "user": {
      "displayName": "Daniel Guzhavin",
      "userId": "05684735323155417140"
     }
    }
   }
  },
  {
   "cell_type": "markdown",
   "source": [
    "**Создадим переменную \"y\" и передадим в нее \"passed_course\". Почему именно так? Потому что мы убрали всех, кто еще учится (не прошел курс и не дропнулся). А значит, если человек не прошел курс, то он точно дропнулся**"
   ],
   "metadata": {
    "collapsed": false,
    "id": "zvRKc1CO2nfN"
   }
  },
  {
   "cell_type": "code",
   "execution_count": 68,
   "outputs": [],
   "source": [
    "y = X.passed_course.map(int)"
   ],
   "metadata": {
    "id": "eZOP3Z-m2nfN",
    "executionInfo": {
     "status": "ok",
     "timestamp": 1667334398537,
     "user_tz": -180,
     "elapsed": 10,
     "user": {
      "displayName": "Daniel Guzhavin",
      "userId": "05684735323155417140"
     }
    }
   }
  },
  {
   "cell_type": "code",
   "execution_count": 69,
   "outputs": [],
   "source": [
    "X = X.drop(['passed_course', 'is_gone_user'], axis=1)"
   ],
   "metadata": {
    "id": "a4qKHetL2nfN",
    "executionInfo": {
     "status": "ok",
     "timestamp": 1667334398537,
     "user_tz": -180,
     "elapsed": 10,
     "user": {
      "displayName": "Daniel Guzhavin",
      "userId": "05684735323155417140"
     }
    }
   }
  },
  {
   "cell_type": "code",
   "execution_count": 70,
   "outputs": [
    {
     "data": {
      "text/plain": "   user_id  days  steps_tried  correct  wrong  correct ratio  viewed\n0        2   1.0          2.0      2.0    0.0           1.00       9\n1        3   1.0          4.0      4.0    4.0           0.50      20\n2        8   1.0         11.0      9.0   21.0           0.30     154\n3       14   1.0          1.0      0.0    1.0           0.00       9\n4       16   3.0         23.0     23.0   27.0           0.46     132",
      "text/html": "<div>\n<style scoped>\n    .dataframe tbody tr th:only-of-type {\n        vertical-align: middle;\n    }\n\n    .dataframe tbody tr th {\n        vertical-align: top;\n    }\n\n    .dataframe thead th {\n        text-align: right;\n    }\n</style>\n<table border=\"1\" class=\"dataframe\">\n  <thead>\n    <tr style=\"text-align: right;\">\n      <th></th>\n      <th>user_id</th>\n      <th>days</th>\n      <th>steps_tried</th>\n      <th>correct</th>\n      <th>wrong</th>\n      <th>correct ratio</th>\n      <th>viewed</th>\n    </tr>\n  </thead>\n  <tbody>\n    <tr>\n      <th>0</th>\n      <td>2</td>\n      <td>1.0</td>\n      <td>2.0</td>\n      <td>2.0</td>\n      <td>0.0</td>\n      <td>1.00</td>\n      <td>9</td>\n    </tr>\n    <tr>\n      <th>1</th>\n      <td>3</td>\n      <td>1.0</td>\n      <td>4.0</td>\n      <td>4.0</td>\n      <td>4.0</td>\n      <td>0.50</td>\n      <td>20</td>\n    </tr>\n    <tr>\n      <th>2</th>\n      <td>8</td>\n      <td>1.0</td>\n      <td>11.0</td>\n      <td>9.0</td>\n      <td>21.0</td>\n      <td>0.30</td>\n      <td>154</td>\n    </tr>\n    <tr>\n      <th>3</th>\n      <td>14</td>\n      <td>1.0</td>\n      <td>1.0</td>\n      <td>0.0</td>\n      <td>1.0</td>\n      <td>0.00</td>\n      <td>9</td>\n    </tr>\n    <tr>\n      <th>4</th>\n      <td>16</td>\n      <td>3.0</td>\n      <td>23.0</td>\n      <td>23.0</td>\n      <td>27.0</td>\n      <td>0.46</td>\n      <td>132</td>\n    </tr>\n  </tbody>\n</table>\n</div>"
     },
     "execution_count": 70,
     "metadata": {},
     "output_type": "execute_result"
    }
   ],
   "source": [
    "X.head()"
   ],
   "metadata": {
    "colab": {
     "base_uri": "https://localhost:8080/",
     "height": 206
    },
    "id": "iDXw2ugO2nfN",
    "executionInfo": {
     "status": "ok",
     "timestamp": 1667334398537,
     "user_tz": -180,
     "elapsed": 9,
     "user": {
      "displayName": "Daniel Guzhavin",
      "userId": "05684735323155417140"
     }
    },
    "outputId": "1f649469-0ad1-40a5-f558-b2acda885e54"
   }
  },
  {
   "cell_type": "markdown",
   "source": [
    "**Колонка user_id не представляет ценности для нашей будущей модели (звучит логично, ведь они не несет ни какой логики).\n",
    " Но и удалять ее не хотелось бы, чтобы удобно анализировать результаты. Перенесем в индексы.**"
   ],
   "metadata": {
    "collapsed": false,
    "id": "CPT0KMfA2nfO"
   }
  },
  {
   "cell_type": "code",
   "execution_count": 71,
   "outputs": [],
   "source": [
    "X = X.set_index(X.user_id)\n",
    "X = X.drop('user_id', axis=1)"
   ],
   "metadata": {
    "id": "TXyWEHQ12nfO",
    "executionInfo": {
     "status": "ok",
     "timestamp": 1667334398538,
     "user_tz": -180,
     "elapsed": 9,
     "user": {
      "displayName": "Daniel Guzhavin",
      "userId": "05684735323155417140"
     }
    }
   }
  },
  {
   "cell_type": "code",
   "execution_count": 72,
   "outputs": [
    {
     "data": {
      "text/plain": "         days  steps_tried  correct  wrong  correct ratio  viewed\nuser_id                                                          \n2         1.0          2.0      2.0    0.0           1.00       9\n3         1.0          4.0      4.0    4.0           0.50      20\n8         1.0         11.0      9.0   21.0           0.30     154\n14        1.0          1.0      0.0    1.0           0.00       9\n16        3.0         23.0     23.0   27.0           0.46     132",
      "text/html": "<div>\n<style scoped>\n    .dataframe tbody tr th:only-of-type {\n        vertical-align: middle;\n    }\n\n    .dataframe tbody tr th {\n        vertical-align: top;\n    }\n\n    .dataframe thead th {\n        text-align: right;\n    }\n</style>\n<table border=\"1\" class=\"dataframe\">\n  <thead>\n    <tr style=\"text-align: right;\">\n      <th></th>\n      <th>days</th>\n      <th>steps_tried</th>\n      <th>correct</th>\n      <th>wrong</th>\n      <th>correct ratio</th>\n      <th>viewed</th>\n    </tr>\n    <tr>\n      <th>user_id</th>\n      <th></th>\n      <th></th>\n      <th></th>\n      <th></th>\n      <th></th>\n      <th></th>\n    </tr>\n  </thead>\n  <tbody>\n    <tr>\n      <th>2</th>\n      <td>1.0</td>\n      <td>2.0</td>\n      <td>2.0</td>\n      <td>0.0</td>\n      <td>1.00</td>\n      <td>9</td>\n    </tr>\n    <tr>\n      <th>3</th>\n      <td>1.0</td>\n      <td>4.0</td>\n      <td>4.0</td>\n      <td>4.0</td>\n      <td>0.50</td>\n      <td>20</td>\n    </tr>\n    <tr>\n      <th>8</th>\n      <td>1.0</td>\n      <td>11.0</td>\n      <td>9.0</td>\n      <td>21.0</td>\n      <td>0.30</td>\n      <td>154</td>\n    </tr>\n    <tr>\n      <th>14</th>\n      <td>1.0</td>\n      <td>1.0</td>\n      <td>0.0</td>\n      <td>1.0</td>\n      <td>0.00</td>\n      <td>9</td>\n    </tr>\n    <tr>\n      <th>16</th>\n      <td>3.0</td>\n      <td>23.0</td>\n      <td>23.0</td>\n      <td>27.0</td>\n      <td>0.46</td>\n      <td>132</td>\n    </tr>\n  </tbody>\n</table>\n</div>"
     },
     "execution_count": 72,
     "metadata": {},
     "output_type": "execute_result"
    }
   ],
   "source": [
    "X.head()"
   ],
   "metadata": {
    "colab": {
     "base_uri": "https://localhost:8080/",
     "height": 237
    },
    "id": "OoZF9Ihb2nfO",
    "executionInfo": {
     "status": "ok",
     "timestamp": 1667334398538,
     "user_tz": -180,
     "elapsed": 9,
     "user": {
      "displayName": "Daniel Guzhavin",
      "userId": "05684735323155417140"
     }
    },
    "outputId": "c84ba865-85c0-424c-a265-abb6726aff85"
   }
  },
  {
   "cell_type": "code",
   "execution_count": 73,
   "outputs": [],
   "source": [
    "X.to_csv(f'X_{days_for_predict}_{days_for_out}.csv')\n",
    "y.to_csv(f'y_{days_for_predict}_{days_for_out}.csv')"
   ],
   "metadata": {
    "collapsed": false
   }
  }
 ],
 "metadata": {
  "kernelspec": {
   "display_name": "Python 3",
   "language": "python",
   "name": "python3"
  },
  "language_info": {
   "codemirror_mode": {
    "name": "ipython",
    "version": 2
   },
   "file_extension": ".py",
   "mimetype": "text/x-python",
   "name": "python",
   "nbconvert_exporter": "python",
   "pygments_lexer": "ipython2",
   "version": "2.7.6"
  },
  "colab": {
   "provenance": [],
   "collapsed_sections": []
  }
 },
 "nbformat": 4,
 "nbformat_minor": 0
}
